{
 "cells": [
  {
   "cell_type": "code",
   "execution_count": null,
   "metadata": {},
   "outputs": [
    {
     "ename": "",
     "evalue": "",
     "output_type": "error",
     "traceback": [
      "\u001b[1;31mThe kernel failed to start as the Python Environment '.venv' is no longer available. Consider selecting another kernel or refreshing the list of Python Environments."
     ]
    }
   ],
   "source": [
    "from pyspark.sql import SparkSession, DataFrame\n",
    "from pyspark.sql.functions import from_json, col, expr, get_json_object, to_json, when\n",
    "from pyspark.sql.types import TimestampType, StructType\n",
    "\n",
    "def deserialize_cdc_msg(df: DataFrame, cdc_schema: StructType):\n",
    "        # df = df[0]\n",
    "        return (\n",
    "            df.select(spark_avro_deserializer(col('payload')).alias('value'))\n",
    "                .withColumn('value', from_json('value', cdc_schema))\n",
    "                .select(\n",
    "                'value.op',\n",
    "                'value.after.*',\n",
    "                (col('value.ts_ms') / 1000).cast(TimestampType()).alias('ts'))\n",
    "        )\n",
    "                \n",
    "def deserialize_cdc_msg_json(df: DataFrame, cdc_schema: StructType):\n",
    "        df = df.select('payload')\n",
    "        return (\n",
    "            df.withColumn('value', from_json(to_json('payload'), cdc_schema))\n",
    "                .select(\n",
    "                'value.op',\n",
    "                'value.after.*',\n",
    "                (col('value.ts_ms') / 1000).cast(TimestampType()).alias('ts'))\n",
    "        )\n",
    "        \n",
    "\n",
    "def deserialize_cdc_msg_json_new(df: DataFrame, cdc_schema: StructType):\n",
    "        df = df.select('payload')\n",
    "        return (\n",
    "            df.withColumn('value', from_json(to_json('payload'), cdc_schema))    \\\n",
    "                .withColumn('result', when(col('value.op') == \"d\", 'value.before')   \\\n",
    "                    .otherwise('value.after'))\n",
    "            .select(    \\\n",
    "                'value.op', \\\n",
    "                'result.*',    \\\n",
    "                (col('value.ts_ms') / 1000).cast(TimestampType()).alias('ts'))\n",
    "        )"
   ]
  },
  {
   "cell_type": "code",
   "execution_count": 81,
   "metadata": {},
   "outputs": [],
   "source": [
    "spark = SparkSession.builder.appName(\"test\").getOrCreate()\n",
    "df = spark.read.option(\"multiline\", \"true\").json(\"sample_stock_event.json\")"
   ]
  },
  {
   "cell_type": "code",
   "execution_count": 82,
   "metadata": {},
   "outputs": [
    {
     "name": "stdout",
     "output_type": "stream",
     "text": [
      "root\n",
      " |-- payload: struct (nullable = true)\n",
      " |    |-- after: struct (nullable = true)\n",
      " |    |    |-- BackorderOrderID: string (nullable = true)\n",
      " |    |    |-- Comments: string (nullable = true)\n",
      " |    |    |-- ContactPersonID: long (nullable = true)\n",
      " |    |    |-- CustomerID: long (nullable = true)\n",
      " |    |    |-- CustomerPurchaseOrderNumber: string (nullable = true)\n",
      " |    |    |-- DeliveryInstructions: string (nullable = true)\n",
      " |    |    |-- ExpectedDeliveryDate: long (nullable = true)\n",
      " |    |    |-- InternalComments: string (nullable = true)\n",
      " |    |    |-- IsUndersupplyBackordered: boolean (nullable = true)\n",
      " |    |    |-- LastEditedBy: long (nullable = true)\n",
      " |    |    |-- LastEditedWhen: long (nullable = true)\n",
      " |    |    |-- OrderDate: long (nullable = true)\n",
      " |    |    |-- OrderID: long (nullable = true)\n",
      " |    |    |-- PickedByPersonID: string (nullable = true)\n",
      " |    |    |-- PickingCompletedWhen: string (nullable = true)\n",
      " |    |    |-- SalespersonPersonID: long (nullable = true)\n",
      " |    |-- before: string (nullable = true)\n",
      " |    |-- op: string (nullable = true)\n",
      " |    |-- source: struct (nullable = true)\n",
      " |    |    |-- change_lsn: string (nullable = true)\n",
      " |    |    |-- commit_lsn: string (nullable = true)\n",
      " |    |    |-- connector: string (nullable = true)\n",
      " |    |    |-- db: string (nullable = true)\n",
      " |    |    |-- event_serial_no: long (nullable = true)\n",
      " |    |    |-- name: string (nullable = true)\n",
      " |    |    |-- schema: string (nullable = true)\n",
      " |    |    |-- sequence: string (nullable = true)\n",
      " |    |    |-- snapshot: string (nullable = true)\n",
      " |    |    |-- table: string (nullable = true)\n",
      " |    |    |-- ts_ms: long (nullable = true)\n",
      " |    |    |-- version: string (nullable = true)\n",
      " |    |-- transaction: string (nullable = true)\n",
      " |    |-- ts_ms: long (nullable = true)\n",
      " |-- schema: struct (nullable = true)\n",
      " |    |-- fields: array (nullable = true)\n",
      " |    |    |-- element: struct (containsNull = true)\n",
      " |    |    |    |-- field: string (nullable = true)\n",
      " |    |    |    |-- fields: array (nullable = true)\n",
      " |    |    |    |    |-- element: struct (containsNull = true)\n",
      " |    |    |    |    |    |-- default: string (nullable = true)\n",
      " |    |    |    |    |    |-- field: string (nullable = true)\n",
      " |    |    |    |    |    |-- name: string (nullable = true)\n",
      " |    |    |    |    |    |-- optional: boolean (nullable = true)\n",
      " |    |    |    |    |    |-- parameters: struct (nullable = true)\n",
      " |    |    |    |    |    |    |-- allowed: string (nullable = true)\n",
      " |    |    |    |    |    |-- type: string (nullable = true)\n",
      " |    |    |    |    |    |-- version: long (nullable = true)\n",
      " |    |    |    |-- name: string (nullable = true)\n",
      " |    |    |    |-- optional: boolean (nullable = true)\n",
      " |    |    |    |-- type: string (nullable = true)\n",
      " |    |-- name: string (nullable = true)\n",
      " |    |-- optional: boolean (nullable = true)\n",
      " |    |-- type: string (nullable = true)\n",
      "\n"
     ]
    }
   ],
   "source": [
    "# df.show()\n",
    "df.printSchema()"
   ]
  },
  {
   "cell_type": "code",
   "execution_count": 83,
   "metadata": {},
   "outputs": [],
   "source": [
    "cdc_schema = get_cdc_schema('orders')\n",
    "\n",
    "# json input deserialize_cdc_msg\n",
    "deserialized_df = deserialize_cdc_msg_json(df, cdc_schema)"
   ]
  },
  {
   "cell_type": "code",
   "execution_count": 86,
   "metadata": {},
   "outputs": [
    {
     "name": "stdout",
     "output_type": "stream",
     "text": [
      "+---+-------+----------+-------------------+----------------+---------------+----------------+---------+--------------------+---------------------------+------------------------+--------------+--------------------+----------------+--------------------+------------+-------------------+--------------------+\n",
      "| op|OrderID|CustomerID|SalespersonPersonID|PickedByPersonID|ContactPersonID|BackorderOrderID|OrderDate|ExpectedDeliveryDate|CustomerPurchaseOrderNumber|IsUndersupplyBackordered|      Comments|DeliveryInstructions|InternalComments|PickingCompletedWhen|LastEditedBy|     LastEditedWhen|                  ts|\n",
      "+---+-------+----------+-------------------+----------------+---------------+----------------+---------+--------------------+---------------------------+------------------------+--------------+--------------------+----------------+--------------------+------------+-------------------+--------------------+\n",
      "|  c|  73622|       594|                 14|            null|           2387|            null|    19495|               19496|                       4305|                   false|Auto-generated|Shop 55, 607 Szol...|            null|                null|          14|1684415822927976200|2023-05-18 13:17:...|\n",
      "+---+-------+----------+-------------------+----------------+---------------+----------------+---------+--------------------+---------------------------+------------------------+--------------+--------------------+----------------+--------------------+------------+-------------------+--------------------+\n",
      "\n"
     ]
    }
   ],
   "source": [
    "deserialized_df.show()"
   ]
  },
  {
   "cell_type": "code",
   "execution_count": null,
   "metadata": {},
   "outputs": [],
   "source": [
    "cdc_schema = get_cdc_schema('orders')\n",
    "\n",
    "# json input deserialize_cdc_msg\n",
    "deserialized_df_new = deserialize_cdc_msg_json_new(df, cdc_schema)"
   ]
  },
  {
   "cell_type": "code",
   "execution_count": null,
   "metadata": {},
   "outputs": [],
   "source": [
    "deserialized_df_new.show()"
   ]
  },
  {
   "cell_type": "code",
   "execution_count": null,
   "metadata": {},
   "outputs": [
    {
     "ename": "",
     "evalue": "",
     "output_type": "error",
     "traceback": [
      "\u001b[1;31mThe kernel failed to start as the Python Environment '.venv' is no longer available. Consider selecting another kernel or refreshing the list of Python Environments."
     ]
    }
   ],
   "source": [
    "df_new = df.withColumn('value', from_json(to_json('payload'), cdc_schema))    \\\n",
    "                .withColumn('result', when(col('value.op') == \"d\", 'value.before')   \\\n",
    "                    .otherwise('value.after'))\n",
    "                \n",
    "df_new.show()"
   ]
  },
  {
   "cell_type": "code",
   "execution_count": null,
   "metadata": {},
   "outputs": [],
   "source": []
  }
 ],
 "metadata": {
  "kernelspec": {
   "display_name": ".venv",
   "language": "python",
   "name": "python3"
  },
  "language_info": {
   "codemirror_mode": {
    "name": "ipython",
    "version": 3
   },
   "file_extension": ".py",
   "mimetype": "text/x-python",
   "name": "python",
   "nbconvert_exporter": "python",
   "pygments_lexer": "ipython3",
   "version": "3.11.2"
  },
  "orig_nbformat": 4
 },
 "nbformat": 4,
 "nbformat_minor": 2
}
